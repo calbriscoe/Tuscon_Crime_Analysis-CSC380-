{
 "cells": [
  {
   "cell_type": "code",
   "execution_count": null,
   "id": "5d06ee5e",
   "metadata": {},
   "outputs": [],
   "source": [
    "from pandas import read_csv\n",
    "\n",
    "police_crimes = read_csv('./data/Tucson_Police_Reported_Crimes.csv')\n",
    "neighborhoods = read_csv('./data/Neighborhood_Income.csv')"
   ]
  }
 ],
 "metadata": {
  "kernelspec": {
   "display_name": ".env",
   "language": "python",
   "name": "python3"
  },
  "language_info": {
   "name": "python",
   "version": "3.11.8"
  }
 },
 "nbformat": 4,
 "nbformat_minor": 5
}
